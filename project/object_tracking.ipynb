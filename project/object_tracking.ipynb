{
 "cells": [
  {
   "cell_type": "code",
   "execution_count": 58,
   "metadata": {},
   "outputs": [],
   "source": [
    "import cv2\n",
    "import numpy as np\n",
    "import os"
   ]
  },
  {
   "cell_type": "code",
   "execution_count": 59,
   "metadata": {},
   "outputs": [],
   "source": [
    "sequence_folder = 'sequence/'\n",
    "frame_files = sorted([f for f in os.listdir(sequence_folder) if f.endswith('.jpg') or f.endswith('.png')])\n",
    "initial_bbox = (246, 208, 23, 23) \n",
    "\n",
    "initial_hypothesis = np.array([initial_bbox[1], initial_bbox[0], \n",
    "                                   initial_bbox[1] + initial_bbox[3], \n",
    "                                   initial_bbox[0] + initial_bbox[2]])\n",
    "frames = (cv2.imread(os.path.join(sequence_folder, f)) for f in frame_files)\n",
    "frame = list(frames)[0]"
   ]
  },
  {
   "cell_type": "code",
   "execution_count": 60,
   "metadata": {},
   "outputs": [],
   "source": [
    "top, left, bottom, right = initial_hypothesis"
   ]
  },
  {
   "cell_type": "code",
   "execution_count": 61,
   "metadata": {},
   "outputs": [],
   "source": [
    "object_mask = np.zeros(frame.shape[:2], dtype=bool)\n",
    "object_mask[top:bottom, left:right] = True\n"
   ]
  },
  {
   "cell_type": "code",
   "execution_count": 62,
   "metadata": {},
   "outputs": [],
   "source": [
    "padding = 20\n",
    "surrounding_top = max(0, top - padding)\n",
    "surrounding_left = max(0, left - padding)\n",
    "surrounding_bottom = min(frame.shape[0], bottom + padding)\n",
    "surrounding_right = min(frame.shape[1], right + padding)\n",
    "surrounding_mask = np.zeros(frame.shape[:2], dtype=bool)\n",
    "surrounding_mask[surrounding_top:surrounding_bottom, surrounding_left:surrounding_right] = True\n",
    "surrounding_mask[top:bottom, left:right] = False  # exclude the object region"
   ]
  },
  {
   "cell_type": "code",
   "execution_count": 63,
   "metadata": {},
   "outputs": [],
   "source": [
    "def compute_histogram(image, region_mask, bins):\n",
    "    histogram = np.zeros(bins)\n",
    "    # histogram = cv2.calcHist([image], [0,1,2], region_mask.astype(np.uint8), [bins,bins,bins], [0, 256,0, 256,0, 256,0, 256]).flatten()\n",
    "    print(histogram.shape)\n",
    "\n",
    "    for c in range(image.shape[-1]):  \n",
    "        hist =cv2.calcHist([image], [c], region_mask.astype(np.uint8), [bins], [0, 256]).flatten()\n",
    "        histogram += hist\n",
    "    return histogram\n",
    "    # histogram = cv2.calcHist([image], [0], region_mask.astype(np.uint8), [bins], [0, 256]).flatten()"
   ]
  },
  {
   "cell_type": "code",
   "execution_count": 64,
   "metadata": {},
   "outputs": [],
   "source": [
    "bins = 10"
   ]
  },
  {
   "cell_type": "code",
   "execution_count": 65,
   "metadata": {},
   "outputs": [
    {
     "name": "stdout",
     "output_type": "stream",
     "text": [
      "(10,)\n",
      "(10,)\n"
     ]
    }
   ],
   "source": [
    "H_O = compute_histogram(frame, object_mask, bins) \n",
    "H_S = compute_histogram(frame, surrounding_mask, bins)\n"
   ]
  },
  {
   "cell_type": "code",
   "execution_count": 66,
   "metadata": {},
   "outputs": [
    {
     "data": {
      "text/plain": [
       "(360, 640)"
      ]
     },
     "execution_count": 66,
     "metadata": {},
     "output_type": "execute_result"
    }
   ],
   "source": [
    "probabilities = np.zeros(frame.shape[:2])\n",
    "probabilities.shape"
   ]
  },
  {
   "cell_type": "code",
   "execution_count": 67,
   "metadata": {},
   "outputs": [],
   "source": [
    "\n",
    "def calculateProbabilities(I_x, H_O, H_S):\n",
    "    H_O_b=0\n",
    "    H_S_b=0\n",
    "\n",
    "    for a in I_x:\n",
    "\n",
    " \n",
    "        H_O_b += H_O[a]\n",
    "        H_S_b += H_S[a]\n",
    "\n",
    "\n",
    "    total_hist = H_O_b + H_S_b\n",
    "\n",
    "    return H_O_b / total_hist\n"
   ]
  },
  {
   "cell_type": "code",
   "execution_count": 68,
   "metadata": {},
   "outputs": [],
   "source": [
    "def get_bin_indices(pixel_values, bins, value_range=256):\n",
    "    return np.array([int((pixel_value * bins) // value_range) for pixel_value in pixel_values])\n"
   ]
  },
  {
   "cell_type": "code",
   "execution_count": 69,
   "metadata": {},
   "outputs": [],
   "source": [
    "for y in range(frame.shape[0]):\n",
    "    for x in range(frame.shape[1]):\n",
    "            pixel_values = frame[y, x]\n",
    "            bin_index = get_bin_indices(pixel_values, bins)\n",
    "            if surrounding_mask[y, x] or object_mask[y, x]:\n",
    "                probabilities[y, x] = calculateProbabilities(bin_index, H_O, H_S)\n",
    "            else:\n",
    "                probabilities[y, x] = 0.5\n",
    "\n"
   ]
  },
  {
   "cell_type": "code",
   "execution_count": 70,
   "metadata": {},
   "outputs": [],
   "source": [
    "cv2.rectangle(probabilities, (left, top), (right, bottom), (0, 255, 0), 2)\n",
    "cv2.imshow('Object Tracking', probabilities)\n",
    "key = cv2.waitKey(0) & 0xFF\n",
    "cv2.destroyAllWindows()"
   ]
  },
  {
   "cell_type": "code",
   "execution_count": null,
   "metadata": {},
   "outputs": [],
   "source": []
  },
  {
   "cell_type": "code",
   "execution_count": 71,
   "metadata": {},
   "outputs": [],
   "source": [
    "initial_bbox_d = (352, 232, 23, 23) \n",
    "\n",
    "initial_hypothesis_d = np.array([initial_bbox[1], initial_bbox[0], \n",
    "                                   initial_bbox[1] + initial_bbox[3], \n",
    "                                   initial_bbox[0] + initial_bbox[2]])\n",
    "top_d, left_d, bottom_d, right_d = initial_hypothesis"
   ]
  },
  {
   "cell_type": "code",
   "execution_count": 72,
   "metadata": {},
   "outputs": [],
   "source": [
    "object_mask = np.zeros(frame.shape[:2], dtype=bool)\n",
    "object_mask[top:bottom, left:right] = True\n"
   ]
  },
  {
   "cell_type": "code",
   "execution_count": 73,
   "metadata": {},
   "outputs": [],
   "source": [
    "d_mask = np.zeros(frame.shape[:2], dtype=bool)\n",
    "d_mask[top_d:bottom_d, left_d:right_d] = True"
   ]
  },
  {
   "cell_type": "code",
   "execution_count": 74,
   "metadata": {},
   "outputs": [
    {
     "name": "stdout",
     "output_type": "stream",
     "text": [
      "(10,)\n",
      "(10,)\n"
     ]
    }
   ],
   "source": [
    "H_O = compute_histogram(frame, object_mask, bins) \n",
    "H_D = compute_histogram(frame, d_mask, bins)"
   ]
  },
  {
   "cell_type": "code",
   "execution_count": 75,
   "metadata": {},
   "outputs": [
    {
     "data": {
      "text/plain": [
       "(360, 640)"
      ]
     },
     "execution_count": 75,
     "metadata": {},
     "output_type": "execute_result"
    }
   ],
   "source": [
    "probabilities_O_D = np.zeros(frame.shape[:2])\n",
    "probabilities_O_D.shape"
   ]
  },
  {
   "cell_type": "code",
   "execution_count": 76,
   "metadata": {},
   "outputs": [],
   "source": [
    "for y in range(frame.shape[0]):\n",
    "    for x in range(frame.shape[1]):\n",
    "            pixel_values = frame[y, x]\n",
    "            bin_index = get_bin_indices(pixel_values, bins)\n",
    "            if d_mask[y, x] or object_mask[y, x]:\n",
    "                probabilities_O_D[y, x] = calculateProbabilities(bin_index, H_O, H_D)\n",
    "            else:\n",
    "                probabilities_O_D[y, x] = 0.5"
   ]
  },
  {
   "cell_type": "code",
   "execution_count": null,
   "metadata": {},
   "outputs": [],
   "source": []
  },
  {
   "cell_type": "code",
   "execution_count": null,
   "metadata": {},
   "outputs": [],
   "source": [
    "\n",
    "cv2.imshow('d Tracking', probabilities_O_D)\n",
    "key = cv2.waitKey(0) & 0xFF\n",
    "cv2.destroyAllWindows()"
   ]
  },
  {
   "cell_type": "code",
   "execution_count": null,
   "metadata": {},
   "outputs": [],
   "source": [
    "def combined_object_model(P_O_D, P_O_S, lambda_p):\n",
    "    return lambda_p * P_O_D + (1 - lambda_p) * P_O_S\n",
    "\n",
    "def update_object_model(P_current, P_previous, eta):\n",
    "    return eta * P_current + (1 - eta) * P_previous\n",
    "\n",
    "\n",
    "lambda_p = 0.5\n",
    "eta = 0.1\n",
    "\n",
    "combined_probabilities = combined_object_model(probabilities_O_D, probabilities, lambda_p)\n",
    "\n",
    "updated_probabilities = update_object_model(combined_probabilities, probabilities, eta)"
   ]
  },
  {
   "cell_type": "code",
   "execution_count": 78,
   "metadata": {},
   "outputs": [],
   "source": [
    "# def compute_vote_score(probabilities, candidate_bbox):\n",
    "#     top, left, bottom, right = candidate_bbox\n",
    "#     return np.sum(probabilities[top:bottom, left:right])\n",
    "\n",
    "# def compute_distance_score(candidate_bbox, previous_center, sigma=1.0):\n",
    "#     top, left, bottom, right = candidate_bbox\n",
    "#     candidate_center = np.array([(top + bottom) / 2, (left + right) / 2])\n",
    "#     distance = np.linalg.norm(candidate_center - previous_center)\n",
    "#     return np.exp(-distance**2 / (2 * sigma**2))\n",
    "\n",
    "# def localize_object(probabilities, previous_bbox, search_region, sigma=1.0):\n",
    "#     top, left, bottom, right = search_region\n",
    "#     previous_center = np.array([(previous_bbox[0] + previous_bbox[2]) / 2, \n",
    "#                                 (previous_bbox[1] + previous_bbox[3]) / 2])\n",
    "    \n",
    "#     best_score = -np.inf\n",
    "#     best_bbox = None\n",
    "    \n",
    "#     for y in range(top, bottom):\n",
    "#         for x in range(left, right):\n",
    "#             candidate_bbox = (y, x, y + (previous_bbox[2] - previous_bbox[0]), x + (previous_bbox[3] - previous_bbox[1]))\n",
    "#             if candidate_bbox[2] > probabilities.shape[0] or candidate_bbox[3] > probabilities.shape[1]:\n",
    "#                 continue\n",
    "#             vote_score = compute_vote_score(probabilities, candidate_bbox)\n",
    "#             distance_score = compute_distance_score(candidate_bbox, previous_center, sigma)\n",
    "#             score = vote_score * distance_score\n",
    "#             if score > best_score:\n",
    "#                 best_score = score\n",
    "#                 best_bbox = candidate_bbox\n",
    "    \n",
    "#     return best_bbox\n",
    "\n",
    "# # Define the search region proportional to the previous object location\n",
    "# search_padding = 20\n",
    "# search_region = (max(0, top - search_padding), max(0, left - search_padding), \n",
    "#                  min(frame.shape[0], bottom + search_padding), min(frame.shape[1], right + search_padding))\n",
    "\n",
    "# # Localize the object in the new frame\n",
    "# new_bbox = localize_object(updated_probabilities, initial_hypothesis, search_region)\n",
    "# print(\"New object location:\", new_bbox)"
   ]
  }
 ],
 "metadata": {
  "kernelspec": {
   "display_name": "base",
   "language": "python",
   "name": "python3"
  },
  "language_info": {
   "codemirror_mode": {
    "name": "ipython",
    "version": 3
   },
   "file_extension": ".py",
   "mimetype": "text/x-python",
   "name": "python",
   "nbconvert_exporter": "python",
   "pygments_lexer": "ipython3",
   "version": "3.11.5"
  }
 },
 "nbformat": 4,
 "nbformat_minor": 2
}
